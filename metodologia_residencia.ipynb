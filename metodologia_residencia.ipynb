{
 "cells": [
  {
   "cell_type": "code",
   "execution_count": 47,
   "metadata": {},
   "outputs": [],
   "source": [
    "import pandas as pd\n",
    "import numpy as np\n",
    "from tipos.numero import Numero\n",
    "from tipos.caracter import Caracter\n",
    "from tipos.categorico import Categorica\n",
    "from tipos.fecha import Fecha\n",
    "import matplotlib.pyplot as plt"
   ]
  },
  {
   "cell_type": "code",
   "execution_count": 48,
   "metadata": {},
   "outputs": [],
   "source": [
    "df_residencia = pd.read_excel('df_residencia_modificada.xlsx')\n",
    "df_metadatos = pd.read_excel('datos_residencia.xlsx')"
   ]
  },
  {
   "cell_type": "code",
   "execution_count": 54,
   "metadata": {},
   "outputs": [
    {
     "data": {
      "text/plain": [
       "(56798, 9)"
      ]
     },
     "execution_count": 54,
     "metadata": {},
     "output_type": "execute_result"
    }
   ],
   "source": [
    "df_metadatos.shape"
   ]
  },
  {
   "cell_type": "code",
   "execution_count": 55,
   "metadata": {},
   "outputs": [
    {
     "data": {
      "text/plain": [
       "(45448, 9)"
      ]
     },
     "execution_count": 55,
     "metadata": {},
     "output_type": "execute_result"
    }
   ],
   "source": [
    "df_residencia.shape"
   ]
  },
  {
   "cell_type": "code",
   "execution_count": 3,
   "metadata": {},
   "outputs": [
    {
     "data": {
      "text/html": [
       "<div>\n",
       "<style scoped>\n",
       "    .dataframe tbody tr th:only-of-type {\n",
       "        vertical-align: middle;\n",
       "    }\n",
       "\n",
       "    .dataframe tbody tr th {\n",
       "        vertical-align: top;\n",
       "    }\n",
       "\n",
       "    .dataframe thead th {\n",
       "        text-align: right;\n",
       "    }\n",
       "</style>\n",
       "<table border=\"1\" class=\"dataframe\">\n",
       "  <thead>\n",
       "    <tr style=\"text-align: right;\">\n",
       "      <th></th>\n",
       "      <th>Unnamed: 0</th>\n",
       "      <th>LLAVE</th>\n",
       "      <th>TIPO_NIVEL</th>\n",
       "      <th>FECHA_NACIMIENTO</th>\n",
       "      <th>SEXO</th>\n",
       "      <th>ESTADO_CIVIL</th>\n",
       "      <th>DEPARTAMENTO_RESIDENCIA</th>\n",
       "      <th>DIRECCION_RESIDENCIA</th>\n",
       "      <th>TEL_RESIDENCIA</th>\n",
       "    </tr>\n",
       "  </thead>\n",
       "  <tbody>\n",
       "    <tr>\n",
       "      <th>0</th>\n",
       "      <td>0</td>\n",
       "      <td>314246</td>\n",
       "      <td>POSGRADO</td>\n",
       "      <td>1987-05-21</td>\n",
       "      <td>F</td>\n",
       "      <td>Soltero</td>\n",
       "      <td>NaN</td>\n",
       "      <td>Calle 80 # 62 - 54, Apto 408</td>\n",
       "      <td>3043891301</td>\n",
       "    </tr>\n",
       "    <tr>\n",
       "      <th>1</th>\n",
       "      <td>1</td>\n",
       "      <td>293884</td>\n",
       "      <td>POSGRADO</td>\n",
       "      <td>1982-11-17</td>\n",
       "      <td>F</td>\n",
       "      <td>Soltero</td>\n",
       "      <td>BOGOTA D.C.</td>\n",
       "      <td>CALLE 126 #52 A 92 APTO 811</td>\n",
       "      <td>6240608</td>\n",
       "    </tr>\n",
       "    <tr>\n",
       "      <th>2</th>\n",
       "      <td>3</td>\n",
       "      <td>344641</td>\n",
       "      <td>POSGRADO</td>\n",
       "      <td>1989-08-08</td>\n",
       "      <td>M</td>\n",
       "      <td>Soltero</td>\n",
       "      <td>BOGOTA D.C.</td>\n",
       "      <td>CL 52 SUR N? 24A - 35 BL 21 AP 565</td>\n",
       "      <td>7675289</td>\n",
       "    </tr>\n",
       "    <tr>\n",
       "      <th>3</th>\n",
       "      <td>4</td>\n",
       "      <td>339861</td>\n",
       "      <td>PREGRADO</td>\n",
       "      <td>1988-02-22</td>\n",
       "      <td>M</td>\n",
       "      <td>NaN</td>\n",
       "      <td>CUNDINAMARCA</td>\n",
       "      <td>MANZANA F CASA N 15 URBANIZACION LA ALEJANDRIA</td>\n",
       "      <td>3203761470</td>\n",
       "    </tr>\n",
       "    <tr>\n",
       "      <th>4</th>\n",
       "      <td>5</td>\n",
       "      <td>332394</td>\n",
       "      <td>POSGRADO</td>\n",
       "      <td>1985-10-16</td>\n",
       "      <td>F</td>\n",
       "      <td>Soltero</td>\n",
       "      <td>BOGOTA D.C.</td>\n",
       "      <td>TRANS 86 C # 62 B - 21 SUR</td>\n",
       "      <td>5738128</td>\n",
       "    </tr>\n",
       "  </tbody>\n",
       "</table>\n",
       "</div>"
      ],
      "text/plain": [
       "   Unnamed: 0   LLAVE TIPO_NIVEL FECHA_NACIMIENTO SEXO ESTADO_CIVIL  \\\n",
       "0           0  314246   POSGRADO       1987-05-21    F      Soltero   \n",
       "1           1  293884   POSGRADO       1982-11-17    F      Soltero   \n",
       "2           3  344641   POSGRADO       1989-08-08    M      Soltero   \n",
       "3           4  339861   PREGRADO       1988-02-22    M          NaN   \n",
       "4           5  332394   POSGRADO       1985-10-16    F      Soltero   \n",
       "\n",
       "  DEPARTAMENTO_RESIDENCIA                            DIRECCION_RESIDENCIA  \\\n",
       "0                     NaN                    Calle 80 # 62 - 54, Apto 408   \n",
       "1             BOGOTA D.C.                     CALLE 126 #52 A 92 APTO 811   \n",
       "2             BOGOTA D.C.              CL 52 SUR N? 24A - 35 BL 21 AP 565   \n",
       "3            CUNDINAMARCA  MANZANA F CASA N 15 URBANIZACION LA ALEJANDRIA   \n",
       "4             BOGOTA D.C.                      TRANS 86 C # 62 B - 21 SUR   \n",
       "\n",
       "  TEL_RESIDENCIA  \n",
       "0     3043891301  \n",
       "1        6240608  \n",
       "2        7675289  \n",
       "3     3203761470  \n",
       "4        5738128  "
      ]
     },
     "execution_count": 3,
     "metadata": {},
     "output_type": "execute_result"
    }
   ],
   "source": [
    "df_residencia.head()"
   ]
  },
  {
   "cell_type": "markdown",
   "metadata": {},
   "source": [
    "### Nivel"
   ]
  },
  {
   "cell_type": "code",
   "execution_count": 6,
   "metadata": {},
   "outputs": [
    {
     "data": {
      "text/plain": [
       "PREGRADO    39687\n",
       "POSGRADO     5761\n",
       "Name: TIPO_NIVEL, dtype: int64"
      ]
     },
     "execution_count": 6,
     "metadata": {},
     "output_type": "execute_result"
    }
   ],
   "source": [
    "df_residencia['TIPO_NIVEL'].value_counts()"
   ]
  },
  {
   "cell_type": "code",
   "execution_count": 7,
   "metadata": {},
   "outputs": [
    {
     "data": {
      "text/plain": [
       "[39687, 5761]"
      ]
     },
     "execution_count": 7,
     "metadata": {},
     "output_type": "execute_result"
    }
   ],
   "source": [
    "list(df_residencia['TIPO_NIVEL'].value_counts())"
   ]
  },
  {
   "cell_type": "code",
   "execution_count": 8,
   "metadata": {},
   "outputs": [
    {
     "data": {
      "text/plain": [
       "['PREGRADO', 'POSGRADO']"
      ]
     },
     "execution_count": 8,
     "metadata": {},
     "output_type": "execute_result"
    }
   ],
   "source": [
    "list(df_metadatos['TIPO_NIVEL'].value_counts().index)"
   ]
  },
  {
   "cell_type": "code",
   "execution_count": 88,
   "metadata": {},
   "outputs": [
    {
     "data": {
      "image/png": "[encoded data removed]",
      "text/plain": [
       "<Figure size 432x288 with 1 Axes>"
      ]
     },
     "metadata": {
      "needs_background": "light"
     },
     "output_type": "display_data"
    }
   ],
   "source": [
    "import numpy as np\n",
    "import matplotlib.pyplot as plt\n",
    "\n",
    "# Make a random dataset:\n",
    "height = np.array(list(df_residencia['TIPO_NIVEL'].value_counts()))/10000\n",
    "bars = ['PREGRADO', 'POSGRADO']\n",
    "y_pos = np.arange(len(bars))\n",
    "\n",
    "# Create bars\n",
    "plt.bar(y_pos, height)\n",
    "\n",
    "# Create names on the x-axis\n",
    "plt.xticks(y_pos, bars)\n",
    "\n",
    "plt.xticks(rotation=90)\n",
    "plt.title('Elicitación variable nivel (residencia)')\n",
    "\n",
    "# Show graphic\n",
    "plt.show()"
   ]
  },
  {
   "cell_type": "code",
   "execution_count": 9,
   "metadata": {},
   "outputs": [],
   "source": [
    "nivel = Categorica(df_residencia['TIPO_NIVEL'])"
   ]
  },
  {
   "cell_type": "code",
   "execution_count": 10,
   "metadata": {},
   "outputs": [
    {
     "name": "stdout",
     "output_type": "stream",
     "text": [
      "El porcentaje de exactitud para la variable es de 81.42%\n",
      "El porcentaje de completitud para la variable es de 100.0%\n",
      "El porcentaje de consistencia para la variable es de 100.0%\n"
     ]
    }
   ],
   "source": [
    "print(nivel.evaluacion_exactitud(distribucion_teorica=[7170, 49628], categorias_teoricas=['POSGRADO', 'PREGRADO']))\n",
    "print(nivel.evaluacion_completitud())\n",
    "print(nivel.evaluacion_consistencia())"
   ]
  },
  {
   "cell_type": "markdown",
   "metadata": {},
   "source": [
    "### Fecha nacimiento"
   ]
  },
  {
   "cell_type": "code",
   "execution_count": 92,
   "metadata": {},
   "outputs": [
    {
     "name": "stdout",
     "output_type": "stream",
     "text": [
      "2006-08-01 00:00:00\n",
      "1944-07-03 00:00:00\n",
      "[ 6429 26157 11751  6871  2717  1041   849   432   208   139   108    35\n",
      "    26    23     4     6     2]\n"
     ]
    }
   ],
   "source": [
    "from datetime import datetime\n",
    "print(max(df_metadatos['FECHA_NACIMIENTO']))\n",
    "print(min(df_metadatos['FECHA_NACIMIENTO']))\n",
    "a = np.array(df_metadatos['FECHA_NACIMIENTO'])\n",
    "fecha = pd.Series(a)\n",
    "fecha = pd.to_datetime(fecha, format = \"%Y-%m-%d\")\n",
    "hoy = np.datetime64(datetime.now().date())\n",
    "diferencia_fechas = hoy - fecha\n",
    "diferencia_fechas = diferencia_fechas.astype('timedelta64[Y]')\n",
    "distribucion_empirica = np.histogram(diferencia_fechas, bins=\"sturges\")[0]\n",
    "print(distribucion_empirica)"
   ]
  },
  {
   "cell_type": "code",
   "execution_count": 93,
   "metadata": {},
   "outputs": [
    {
     "name": "stdout",
     "output_type": "stream",
     "text": [
      "[6429, 26157, 11751, 6871, 2717, 1041, 849, 432, 208, 139, 108, 35, 26, 23, 4, 6, 2]\n"
     ]
    }
   ],
   "source": [
    "print(list(distribucion_empirica))"
   ]
  },
  {
   "cell_type": "code",
   "execution_count": 97,
   "metadata": {},
   "outputs": [
    {
     "data": {
      "text/plain": [
       "array([6.4290e+00, 2.6157e+01, 1.1751e+01, 6.8710e+00, 2.7170e+00,\n",
       "       1.0410e+00, 8.4900e-01, 4.3200e-01, 2.0800e-01, 1.3900e-01,\n",
       "       1.0800e-01, 3.5000e-02, 2.6000e-02, 2.3000e-02, 4.0000e-03,\n",
       "       6.0000e-03, 2.0000e-03])"
      ]
     },
     "execution_count": 97,
     "metadata": {},
     "output_type": "execute_result"
    }
   ],
   "source": []
  },
  {
   "cell_type": "code",
   "execution_count": 120,
   "metadata": {},
   "outputs": [
    {
     "data": {
      "text/plain": [
       "Text(0.5, 1.0, 'Elicitación variable fecha nacimiento (residencia)')"
      ]
     },
     "execution_count": 120,
     "metadata": {},
     "output_type": "execute_result"
    },
    {
     "data": {
      "image/png": "[encoded data removed]",
      "text/plain": [
       "<Figure size 432x288 with 1 Axes>"
      ]
     },
     "metadata": {
      "needs_background": "light"
     },
     "output_type": "display_data"
    }
   ],
   "source": [
    "plt.hist(diferencia_fechas, weights=diferencia_fechas/70000)\n",
    "plt.title('Elicitación variable fecha nacimiento (residencia)')"
   ]
  },
  {
   "cell_type": "code",
   "execution_count": 59,
   "metadata": {},
   "outputs": [],
   "source": [
    "fecha = Fecha(valores=df_residencia['FECHA_NACIMIENTO'])"
   ]
  },
  {
   "cell_type": "code",
   "execution_count": 62,
   "metadata": {},
   "outputs": [
    {
     "name": "stdout",
     "output_type": "stream",
     "text": [
      "El porcentaje de exactitud para la variable es de 100.0%\n",
      "El porcentaje de completitud para la variable es de 100.0%\n",
      "El porcentaje de accesibilidad para la variable es de 90.0%\n",
      "El porcentaje de consistencia para la variable es de 100.0%\n"
     ]
    }
   ],
   "source": [
    "print(fecha.evaluacion_exactitud(minimo_teorico=\"1944-07-03\", maximo_teorico=\"2006-08-01\",\\\n",
    "                             distribucion_teorica=[6477, 26137, 11757, 6846, 2709, 1043, 846, 432, 208, 139, 108, 35, 26, 23, 4, 6, 2], suma_reglas=None,\\\n",
    "                                  frecuencia=\"años\"))\n",
    "print(fecha.evaluacion_completitud())\n",
    "print(fecha.evaluacion_accesibilidad(acceso=1,plantilla=1, presentacion=1,restriccion=1))\n",
    "print(fecha.evaluacion_consistencia())"
   ]
  },
  {
   "cell_type": "markdown",
   "metadata": {},
   "source": [
    "### Sexo"
   ]
  },
  {
   "cell_type": "code",
   "execution_count": 15,
   "metadata": {},
   "outputs": [
    {
     "data": {
      "text/plain": [
       "M    34320\n",
       "F    22478\n",
       "Name: SEXO, dtype: int64"
      ]
     },
     "execution_count": 15,
     "metadata": {},
     "output_type": "execute_result"
    }
   ],
   "source": [
    "df_metadatos['SEXO'].value_counts()"
   ]
  },
  {
   "cell_type": "code",
   "execution_count": 16,
   "metadata": {},
   "outputs": [
    {
     "data": {
      "text/plain": [
       "[34320, 22478]"
      ]
     },
     "execution_count": 16,
     "metadata": {},
     "output_type": "execute_result"
    }
   ],
   "source": [
    "list(df_metadatos['SEXO'].value_counts())"
   ]
  },
  {
   "cell_type": "code",
   "execution_count": 17,
   "metadata": {},
   "outputs": [
    {
     "data": {
      "text/plain": [
       "['M', 'F']"
      ]
     },
     "execution_count": 17,
     "metadata": {},
     "output_type": "execute_result"
    }
   ],
   "source": [
    "list(df_metadatos['SEXO'].value_counts().index)"
   ]
  },
  {
   "cell_type": "code",
   "execution_count": 89,
   "metadata": {},
   "outputs": [
    {
     "data": {
      "image/png": "[encoded data removed]",
      "text/plain": [
       "<Figure size 432x288 with 1 Axes>"
      ]
     },
     "metadata": {
      "needs_background": "light"
     },
     "output_type": "display_data"
    }
   ],
   "source": [
    "import numpy as np\n",
    "import matplotlib.pyplot as plt\n",
    "\n",
    "# Make a random dataset:\n",
    "height = np.array(list(df_metadatos['SEXO'].value_counts()))/10000\n",
    "bars = ['M', 'F']\n",
    "y_pos = np.arange(len(bars))\n",
    "\n",
    "# Create bars\n",
    "plt.bar(y_pos, height)\n",
    "\n",
    "# Create names on the x-axis\n",
    "plt.xticks(y_pos, bars)\n",
    "\n",
    "plt.xticks(rotation=90)\n",
    "plt.title('Elicitación variable sexo (residencia)')\n",
    "\n",
    "# Show graphic\n",
    "plt.show()"
   ]
  },
  {
   "cell_type": "code",
   "execution_count": 18,
   "metadata": {},
   "outputs": [],
   "source": [
    "sexo = Categorica(df_residencia['SEXO'])"
   ]
  },
  {
   "cell_type": "code",
   "execution_count": 19,
   "metadata": {},
   "outputs": [
    {
     "data": {
      "text/plain": [
       "array([0.39575337, 0.60424663])"
      ]
     },
     "execution_count": 19,
     "metadata": {},
     "output_type": "execute_result"
    }
   ],
   "source": [
    "np.array([22478, 34320])/56798"
   ]
  },
  {
   "cell_type": "code",
   "execution_count": 20,
   "metadata": {},
   "outputs": [
    {
     "name": "stdout",
     "output_type": "stream",
     "text": [
      "El porcentaje de exactitud para la variable es de 68.64%\n",
      "El porcentaje de completitud para la variable es de 100.0%\n",
      "El porcentaje de consistencia para la variable es de 100.0%\n"
     ]
    }
   ],
   "source": [
    "print(sexo.evaluacion_exactitud(distribucion_teorica=[3.95, 6.04], categorias_teoricas=['F', 'M']))\n",
    "print(sexo.evaluacion_completitud())\n",
    "print(sexo.evaluacion_consistencia())"
   ]
  },
  {
   "cell_type": "markdown",
   "metadata": {},
   "source": [
    "### Estado civil"
   ]
  },
  {
   "cell_type": "code",
   "execution_count": 21,
   "metadata": {},
   "outputs": [],
   "source": [
    "df_estado_civil = pd.DataFrame(df_metadatos['ESTADO_CIVIL'].value_counts())\n",
    "df_estado_civil.reset_index(inplace=True)"
   ]
  },
  {
   "cell_type": "code",
   "execution_count": 22,
   "metadata": {},
   "outputs": [
    {
     "data": {
      "text/plain": [
       "[719, 5, 171, 10, 90, 55055, 651, 27]"
      ]
     },
     "execution_count": 22,
     "metadata": {},
     "output_type": "execute_result"
    }
   ],
   "source": [
    "df_estado_civil.sort_values('index')['ESTADO_CIVIL'].tolist()"
   ]
  },
  {
   "cell_type": "code",
   "execution_count": 23,
   "metadata": {},
   "outputs": [],
   "source": [
    "\n",
    "suma = sum(df_estado_civil.sort_values('index')['ESTADO_CIVIL'].tolist())\n",
    "numerador = np.array(df_estado_civil.sort_values('index')['ESTADO_CIVIL'].tolist())"
   ]
  },
  {
   "cell_type": "code",
   "execution_count": 24,
   "metadata": {},
   "outputs": [
    {
     "data": {
      "text/plain": [
       "[0.1267, 0.0009, 0.0301, 0.0018, 0.0159, 9.7051, 0.1148, 0.0048]"
      ]
     },
     "execution_count": 24,
     "metadata": {},
     "output_type": "execute_result"
    }
   ],
   "source": [
    "list(map(lambda x: round(x, 4), list((numerador / suma)*10)))"
   ]
  },
  {
   "cell_type": "code",
   "execution_count": 25,
   "metadata": {},
   "outputs": [
    {
     "name": "stdout",
     "output_type": "stream",
     "text": [
      "['Casado', 'Divorciado', 'No Definido', 'Religioso', 'Separado', 'Soltero', 'Unión Libre', 'Viudo']\n"
     ]
    }
   ],
   "source": [
    "print(df_estado_civil.sort_values('index')['index'].tolist())"
   ]
  },
  {
   "cell_type": "code",
   "execution_count": 26,
   "metadata": {},
   "outputs": [
    {
     "name": "stdout",
     "output_type": "stream",
     "text": [
      "['CASADO', 'DIVORCIADO', 'NO DEFINIDO', 'RELIGIOSO', 'SEPARADO', 'SOLTERO', 'UNIÓN LIBRE', 'VIUDO']\n"
     ]
    }
   ],
   "source": [
    "print(list(map(lambda x: x.upper().strip(), (sorted(pd.DataFrame(df_residencia['ESTADO_CIVIL'].value_counts()).index)))))"
   ]
  },
  {
   "cell_type": "code",
   "execution_count": 90,
   "metadata": {},
   "outputs": [
    {
     "data": {
      "image/png": "[encoded data removed]",
      "text/plain": [
       "<Figure size 432x288 with 1 Axes>"
      ]
     },
     "metadata": {
      "needs_background": "light"
     },
     "output_type": "display_data"
    }
   ],
   "source": [
    "import numpy as np\n",
    "import matplotlib.pyplot as plt\n",
    "\n",
    "# Make a random dataset:\n",
    "height = [0.1267, 0.0009, 0.0301, 0.0018, 0.0159, 9.7051, 0.1148, 0.0048]\n",
    "bars = ['CASADO', 'DIVORCIADO', 'NO DEFINIDO', 'RELIGIOSO', 'SEPARADO', 'SOLTERO', 'UNIÓN LIBRE', 'VIUDO']\n",
    "y_pos = np.arange(len(bars))\n",
    "\n",
    "# Create bars\n",
    "plt.bar(y_pos, height)\n",
    "\n",
    "# Create names on the x-axis\n",
    "plt.xticks(y_pos, bars)\n",
    "\n",
    "plt.xticks(rotation=90)\n",
    "plt.title('Elicitación variable estado civil (residencia)')\n",
    "\n",
    "# Show graphic\n",
    "plt.show()"
   ]
  },
  {
   "cell_type": "code",
   "execution_count": 27,
   "metadata": {},
   "outputs": [],
   "source": [
    "estado_civil = Categorica(df_residencia['ESTADO_CIVIL'])"
   ]
  },
  {
   "cell_type": "code",
   "execution_count": 28,
   "metadata": {},
   "outputs": [
    {
     "name": "stdout",
     "output_type": "stream",
     "text": [
      "El porcentaje de exactitud para la variable es de 98.94%\n",
      "El porcentaje de completitud para la variable es de 94.88%\n",
      "El porcentaje de consistencia para la variable es de 74.34%\n"
     ]
    }
   ],
   "source": [
    "print(estado_civil.evaluacion_exactitud(distribucion_teorica=[0.1267, 0.0009, 0.0301, 0.0018, 0.0159, 9.7051, 0.1148, 0.0048]\\\n",
    ", categorias_teoricas=['CASADO', 'DIVORCIADO', 'NO DEFINIDO', 'RELIGIOSO', 'SEPARADO', 'SOLTERO', 'UNION LIBRE', 'VIUDO']))\n",
    "print(estado_civil.evaluacion_completitud())\n",
    "print(estado_civil.evaluacion_consistencia())"
   ]
  },
  {
   "cell_type": "markdown",
   "metadata": {},
   "source": [
    "### Departamento residencia\t"
   ]
  },
  {
   "cell_type": "code",
   "execution_count": 50,
   "metadata": {},
   "outputs": [],
   "source": [
    "df_departamento_residencia = pd.DataFrame(df_metadatos['DEPARTAMENTO_RESIDENCIA'].value_counts())\n",
    "df_departamento_residencia.reset_index(inplace=True)"
   ]
  },
  {
   "cell_type": "code",
   "execution_count": 51,
   "metadata": {},
   "outputs": [
    {
     "name": "stdout",
     "output_type": "stream",
     "text": [
      "[197, 3128, 284, 45, 8771, 77, 412, 2795, 63, 263, 142, 337, 20, 113, 1281, 37, 12, 61, 65, 182, 23, 147, 785, 76, 347, 80, 176, 89, 151, 54, 288, 980, 23, 6]\n"
     ]
    }
   ],
   "source": [
    "print(df_departamento_residencia.sort_values('index')['DEPARTAMENTO_RESIDENCIA'].tolist())"
   ]
  },
  {
   "cell_type": "code",
   "execution_count": 52,
   "metadata": {},
   "outputs": [],
   "source": [
    "\n",
    "suma = sum(df_departamento_residencia.sort_values('index')['DEPARTAMENTO_RESIDENCIA'].tolist())\n",
    "numerador = np.array(df_departamento_residencia.sort_values('index')['DEPARTAMENTO_RESIDENCIA'].tolist())"
   ]
  },
  {
   "cell_type": "code",
   "execution_count": 69,
   "metadata": {},
   "outputs": [
    {
     "name": "stdout",
     "output_type": "stream",
     "text": [
      "[0.0916, 1.4542, 0.132, 0.0209, 4.0776, 0.0358, 0.1915, 1.2994, 0.0293, 0.1223, 0.066, 0.1567, 0.0093, 0.0525, 0.5955, 0.0172, 0.0056, 0.0284, 0.0302, 0.0846, 0.0107, 0.0683, 0.3649, 0.0353, 0.1613, 0.0372, 0.0818, 0.0414, 0.0702, 0.0251, 0.1339, 0.4556, 0.0107, 0.0028]\n"
     ]
    }
   ],
   "source": [
    "print(list(map(lambda x: round(x, 4), list((numerador / suma)*10))))"
   ]
  },
  {
   "cell_type": "code",
   "execution_count": 70,
   "metadata": {},
   "outputs": [
    {
     "name": "stdout",
     "output_type": "stream",
     "text": [
      "['AMAZONAS', 'ANTIOQUIA', 'ARAUCA', 'ATLANTICO', 'BOGOTA D.C.', 'BOLIVAR', 'BOYACA', 'CALDAS', 'CAQUETA', 'CASANARE', 'CAUCA', 'CESAR', 'CHOCO', 'CORDOBA', 'CUNDINAMARCA', 'DPTO EXTRANJERO', 'GUAINIA', 'GUAJIRA', 'GUAVIARE', 'HUILA', 'MAGDALENA', 'META', 'NARIÑO', 'NORTE DE SANTANDER', 'PUTUMAYO', 'QUINDIO', 'RISARALDA', 'SAN ANDRES', 'SANTANDER', 'SUCRE', 'TOLIMA', 'VALLE DEL CAUCA', 'VAUPES', 'VICHADA']\n"
     ]
    }
   ],
   "source": [
    "print(df_departamento_residencia.sort_values('index')['index'].tolist())"
   ]
  },
  {
   "cell_type": "code",
   "execution_count": 91,
   "metadata": {},
   "outputs": [
    {
     "data": {
      "image/png": "[encoded data removed]",
      "text/plain": [
       "<Figure size 432x288 with 1 Axes>"
      ]
     },
     "metadata": {
      "needs_background": "light"
     },
     "output_type": "display_data"
    }
   ],
   "source": [
    "import numpy as np\n",
    "import matplotlib.pyplot as plt\n",
    "\n",
    "# Make a random dataset:\n",
    "height = list(map(lambda x: round(x, 4), list((numerador / suma)*20)))\n",
    "bars = df_departamento_residencia.sort_values('index')['index'].tolist()\n",
    "y_pos = np.arange(len(bars))\n",
    "\n",
    "# Create bars\n",
    "plt.bar(y_pos, height)\n",
    "\n",
    "# Create names on the x-axis\n",
    "plt.xticks(y_pos, bars)\n",
    "\n",
    "plt.xticks(rotation=90)\n",
    "plt.title('Elicitación variable departamento (residencia)')\n",
    "\n",
    "# Show graphic\n",
    "plt.show()"
   ]
  },
  {
   "cell_type": "code",
   "execution_count": 34,
   "metadata": {},
   "outputs": [],
   "source": [
    "\n",
    "departamento = Categorica(df_residencia['DEPARTAMENTO_RESIDENCIA'])"
   ]
  },
  {
   "cell_type": "code",
   "execution_count": 35,
   "metadata": {},
   "outputs": [
    {
     "name": "stdout",
     "output_type": "stream",
     "text": [
      "El porcentaje de exactitud para la variable es de 100.0%\n",
      "El porcentaje de completitud para la variable es de 37.8%\n",
      "El porcentaje de consistencia para la variable es de 100.0%\n"
     ]
    }
   ],
   "source": [
    "print(departamento.evaluacion_exactitud(distribucion_teorica=[0.0916, 1.4542, 0.132, 0.0209, 4.0776, 0.0358, 0.1915, 1.2994, 0.0293, 0.1223, 0.066,\\\n",
    "     0.1567, 0.0093, 0.0525, 0.5955, 0.0172, 0.0056, 0.0284, 0.0302, 0.0846, 0.0107, 0.0683, 0.3649, 0.0353, 0.1613, 0.0372,\\\n",
    "          0.0818, 0.0414, 0.0702, 0.0251, 0.1339, 0.4556, 0.0107, 0.0028]\\\n",
    ", categorias_teoricas=['AMAZONAS', 'ANTIOQUIA', 'ARAUCA', 'ATLANTICO', 'BOGOTA D.C.', 'BOLIVAR', 'BOYACA', 'CALDAS', 'CAQUETA',\\\n",
    "     'CASANARE', 'CAUCA', 'CESAR', 'CHOCO', 'CORDOBA', 'CUNDINAMARCA', 'DPTO EXTRANJERO', 'GUAINIA', 'GUAJIRA', 'GUAVIARE',\\\n",
    "          'HUILA', 'MAGDALENA', 'META', 'NARIÑO', 'NORTE DE SANTANDER', 'PUTUMAYO', 'QUINDIO', 'RISARALDA', 'SAN ANDRES',\\\n",
    "               'SANTANDER', 'SUCRE', 'TOLIMA', 'VALLE DEL CAUCA', 'VAUPES', 'VICHADA']))\n",
    "print(departamento.evaluacion_completitud())\n",
    "print(departamento.evaluacion_consistencia(tildes=False,  minusculas=False, espacio = True))"
   ]
  },
  {
   "cell_type": "markdown",
   "metadata": {},
   "source": [
    "### Telefono residencia"
   ]
  },
  {
   "cell_type": "code",
   "execution_count": 36,
   "metadata": {},
   "outputs": [],
   "source": [
    "telefono = Caracter(df_residencia['TEL_RESIDENCIA'])"
   ]
  },
  {
   "cell_type": "code",
   "execution_count": 40,
   "metadata": {},
   "outputs": [],
   "source": [
    "categorias_teoricas = ('0', '1', '2', '3', '4', '5', '6', '7', '8', '9', '(', ')', '+')\n",
    "diccionario_dominios = {'0':'numero', '1':'numero', '2':'numero',\\\n",
    "     '3':'numero', '4':'numero', '5':'numero', '6':'numero', '7':'numero', '8':'numero', '9':'numero', 'none':'toquen_malo'\n",
    "     , '(':'agrupador', '+':'indicativo', ')':'agrupador'}\n",
    "estandar = 'numero'"
   ]
  },
  {
   "cell_type": "code",
   "execution_count": 41,
   "metadata": {},
   "outputs": [
    {
     "name": "stdout",
     "output_type": "stream",
     "text": [
      "El porcentaje de consistencia para la variable es de 98.78%\n",
      "El porcentaje de completitud para la variable es de 33.5%\n",
      "El porcentaje de exactitud para la variable es de 99%\n"
     ]
    }
   ],
   "source": [
    "print(telefono.evaluacion_consistencia(estandar=estandar, diccionario_dominios=diccionario_dominios,\\\n",
    "     tildes = False, numeros = True,\\\n",
    "     mayusculas = True, minusculas = False,\\\n",
    "              categorias_teoricas=categorias_teoricas, letras=False))\n",
    "print(telefono.evaluacion_completitud()) \n",
    "print(telefono.evaluacion_exactitud(numeros=True, letras=False, longitud=10))"
   ]
  },
  {
   "cell_type": "markdown",
   "metadata": {},
   "source": [
    "### Dirección de procedencia"
   ]
  },
  {
   "cell_type": "code",
   "execution_count": 4,
   "metadata": {},
   "outputs": [],
   "source": [
    "\n",
    "direccion = Caracter(df_residencia['DIRECCION_RESIDENCIA'])"
   ]
  },
  {
   "cell_type": "code",
   "execution_count": 5,
   "metadata": {},
   "outputs": [],
   "source": [
    "categorias_teoricas_direccion = ('0', '1', '2', '3', '4', '5', '6', '7', '8', '9', 'none', 'CL.', 'CRA.',\\\n",
    "      'DIG.', 'TRAV.', '#', 'A', 'B', 'C', 'D', 'E', '-')\n",
    "diccionario_dominios_direccion = {'0':'numero', '1':'numero', '2':'numero',\\\n",
    "     '3':'numero', '4':'numero', '5':'numero', '6':'numero', '7':'numero', '8':'numero', '9':'numero', 'none':'toquen_malo'\n",
    "     , 'CL.':'nomenclatura', 'CRA.':'nomenclatura', 'DIG.':'nomenclatura', 'TRAV.':'nomenclatura', '#':'numeral',\n",
    "     'A':'letra', 'B':'letra', 'C':'letra', 'D':'letra', 'E':'letra', '-':'separador'}\n",
    "estandar_direccion = \"nomenclatura numero letra numeral numero separador numero\""
   ]
  },
  {
   "cell_type": "code",
   "execution_count": 6,
   "metadata": {},
   "outputs": [
    {
     "name": "stdout",
     "output_type": "stream",
     "text": [
      "El porcentaje de exactitud para la variable es de 95%\n",
      "El porcentaje de completitud para la variable es de 43.77%\n",
      "El porcentaje de consistencia para la variable es de 42.47%\n"
     ]
    }
   ],
   "source": [
    "print(direccion.evaluacion_exactitud(numeros=True, letras=True))\n",
    "print(direccion.evaluacion_completitud())\n",
    "print(direccion.evaluacion_consistencia(estandar=estandar_direccion, diccionario_dominios=diccionario_dominios_direccion,\\\n",
    "     tildes = False, numeros = True,\\\n",
    "     mayusculas = True, minusculas = False,\\\n",
    "              categorias_teoricas=categorias_teoricas_direccion, letras=True))"
   ]
  },
  {
   "cell_type": "markdown",
   "metadata": {},
   "source": [
    "# Estandarización de datos"
   ]
  },
  {
   "cell_type": "markdown",
   "metadata": {},
   "source": [
    "### Dirección"
   ]
  },
  {
   "cell_type": "code",
   "execution_count": 7,
   "metadata": {},
   "outputs": [],
   "source": [
    "from tipos.estandarizar_direccion import arreglar_direccion\n",
    "categorias_teoricas = ('CL.', 'CRA.', 'DIG.', 'TRAV.')\n",
    "\n",
    "direcciones_buenas = []\n",
    "for i in df_residencia['DIRECCION_RESIDENCIA']:\n",
    "    direcciones_buenas.append(arreglar_direccion(str(i), categorias_teoricas))"
   ]
  },
  {
   "cell_type": "code",
   "execution_count": 25,
   "metadata": {},
   "outputs": [],
   "source": [
    "df_residencia['DIRECCION_RESIDENCIA'] = direcciones_buenas"
   ]
  },
  {
   "cell_type": "markdown",
   "metadata": {},
   "source": [
    "### Telefono residencia"
   ]
  },
  {
   "cell_type": "code",
   "execution_count": 10,
   "metadata": {},
   "outputs": [],
   "source": [
    "from tipos.estandarizar_numero_telefono import estandar_numero"
   ]
  },
  {
   "cell_type": "code",
   "execution_count": 11,
   "metadata": {},
   "outputs": [],
   "source": [
    "celular_bueno = []\n",
    "for i in df_residencia['TEL_RESIDENCIA']:\n",
    "    celular_bueno.append(estandar_numero(str(i)))"
   ]
  },
  {
   "cell_type": "code",
   "execution_count": 27,
   "metadata": {},
   "outputs": [],
   "source": [
    "df_residencia['TEL_RESIDENCIA'] = celular_bueno"
   ]
  },
  {
   "cell_type": "markdown",
   "metadata": {},
   "source": [
    "### Estado civil"
   ]
  },
  {
   "cell_type": "code",
   "execution_count": 13,
   "metadata": {},
   "outputs": [],
   "source": [
    "from tipos.estandarizar_cadena import arreglar_cadena"
   ]
  },
  {
   "cell_type": "code",
   "execution_count": 40,
   "metadata": {},
   "outputs": [],
   "source": [
    "estado_civil_bueno = []\n",
    "for i in df_residencia['ESTADO_CIVIL']:\n",
    "    estado_civil_bueno.append(arreglar_cadena(str(i), mayuscular=True, minuscular=False, espacios=True))"
   ]
  },
  {
   "cell_type": "code",
   "execution_count": 41,
   "metadata": {},
   "outputs": [],
   "source": [
    "df_residencia['ESTADO_CIVIL'] = estado_civil_bueno"
   ]
  },
  {
   "cell_type": "markdown",
   "metadata": {},
   "source": [
    "# Evaluación de metricas despues de limpiar datos"
   ]
  },
  {
   "cell_type": "markdown",
   "metadata": {},
   "source": [
    "### Dirección"
   ]
  },
  {
   "cell_type": "code",
   "execution_count": 16,
   "metadata": {},
   "outputs": [],
   "source": [
    "direccion = Caracter(df_residencia['DIRECCION_RESIDENCIA'])"
   ]
  },
  {
   "cell_type": "code",
   "execution_count": 28,
   "metadata": {},
   "outputs": [
    {
     "name": "stdout",
     "output_type": "stream",
     "text": [
      "El porcentaje de consistencia para la variable es de 52.31%\n"
     ]
    }
   ],
   "source": [
    "print(direccion.evaluacion_consistencia(estandar=estandar_direccion, diccionario_dominios=diccionario_dominios_direccion,\\\n",
    "     tildes = False, numeros = True,\\\n",
    "     mayusculas = True, minusculas = False,\\\n",
    "              categorias_teoricas=categorias_teoricas_direccion, letras=True))"
   ]
  },
  {
   "cell_type": "code",
   "execution_count": 35,
   "metadata": {},
   "outputs": [
    {
     "name": "stdout",
     "output_type": "stream",
     "text": [
      "El porcentaje de exactitud para la variable es de 99%\n"
     ]
    }
   ],
   "source": [
    "print(direccion.evaluacion_exactitud(numeros=True, letras=True))"
   ]
  },
  {
   "cell_type": "markdown",
   "metadata": {},
   "source": [
    "### Celular"
   ]
  },
  {
   "cell_type": "code",
   "execution_count": 36,
   "metadata": {},
   "outputs": [],
   "source": [
    "celular = Caracter(df_residencia['TEL_RESIDENCIA'])"
   ]
  },
  {
   "cell_type": "code",
   "execution_count": 37,
   "metadata": {},
   "outputs": [],
   "source": [
    "categorias_teoricas_celular = ('0', '1', '2', '3', '4', '5', '6', '7', '8', '9', '(', ')', '+')\n",
    "diccionario_dominios_celular = {'0':'numero', '1':'numero', '2':'numero',\\\n",
    "     '3':'numero', '4':'numero', '5':'numero', '6':'numero', '7':'numero', '8':'numero', '9':'numero', 'none':'toquen_malo'\n",
    "     , '(':'agrupador', '+':'indicativo', ')':'agrupador'}\n",
    "estandar = 'numero'"
   ]
  },
  {
   "cell_type": "code",
   "execution_count": 38,
   "metadata": {},
   "outputs": [
    {
     "name": "stdout",
     "output_type": "stream",
     "text": [
      "El porcentaje de exactitud para la variable es de 99%\n",
      "El porcentaje de consistencia para la variable es de 99.83%\n"
     ]
    }
   ],
   "source": [
    "print(celular.evaluacion_exactitud(numeros=True, letras=False, longitud=10))\n",
    "print(celular.evaluacion_consistencia(estandar=estandar, diccionario_dominios=diccionario_dominios_celular,\\\n",
    "     tildes = False, numeros = True,\\\n",
    "     mayusculas = True, minusculas = False,\\\n",
    "              categorias_teoricas=categorias_teoricas_celular, letras=False))"
   ]
  },
  {
   "cell_type": "markdown",
   "metadata": {},
   "source": [
    "### Estado civil"
   ]
  },
  {
   "cell_type": "code",
   "execution_count": 42,
   "metadata": {},
   "outputs": [],
   "source": [
    "estado_civil = Categorica(df_residencia['ESTADO_CIVIL'])"
   ]
  },
  {
   "cell_type": "code",
   "execution_count": 45,
   "metadata": {},
   "outputs": [
    {
     "name": "stdout",
     "output_type": "stream",
     "text": [
      "El porcentaje de consistencia para la variable es de 99.65%\n"
     ]
    }
   ],
   "source": [
    "print(estado_civil.evaluacion_consistencia())"
   ]
  },
  {
   "cell_type": "markdown",
   "metadata": {},
   "source": [
    "# Exportar base lista"
   ]
  },
  {
   "cell_type": "code",
   "execution_count": 46,
   "metadata": {},
   "outputs": [],
   "source": [
    "df_residencia.to_excel('residencia_final.xlsx')"
   ]
  }
 ],
 "metadata": {
  "interpreter": {
   "hash": "77da567be7e5e11e4aa5c23d301394bc9119932d44c0f537e6ac8ee7c19944fc"
  },
  "kernelspec": {
   "display_name": "Python 3.9.7 64-bit",
   "language": "python",
   "name": "python3"
  },
  "language_info": {
   "codemirror_mode": {
    "name": "ipython",
    "version": 3
   },
   "file_extension": ".py",
   "mimetype": "text/x-python",
   "name": "python",
   "nbconvert_exporter": "python",
   "pygments_lexer": "ipython3",
   "version": "3.9.7"
  },
  "orig_nbformat": 4
 },
 "nbformat": 4,
 "nbformat_minor": 2
}
