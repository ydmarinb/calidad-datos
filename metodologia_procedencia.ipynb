{
 "cells": [
  {
   "cell_type": "code",
   "execution_count": 1,
   "metadata": {},
   "outputs": [],
   "source": [
    "import pandas as pd\n",
    "import numpy as np\n",
    "from tipos.numero import Numero #Clase que permite evaluar la dimensiones de calidad en datos Numericos\n",
    "from tipos.caracter import Caracter #Clase que permite evaluar la dimensiones de calidad en datos Caracter\n",
    "from tipos.categorico import Categorica #Clase que permite evaluar la dimensiones de calidad en datos Categoricos\n",
    "import matplotlib.pyplot as plt"
   ]
  },
  {
   "cell_type": "code",
   "execution_count": 2,
   "metadata": {},
   "outputs": [],
   "source": [
    "df_procedencia = pd.read_excel('df_procedencia_modificada.xlsx')\n",
    "df_metadatos = pd.read_excel('datos_procedencia.xlsx')"
   ]
  },
  {
   "cell_type": "code",
   "execution_count": 3,
   "metadata": {},
   "outputs": [
    {
     "data": {
      "text/html": [
       "<div>\n",
       "<style scoped>\n",
       "    .dataframe tbody tr th:only-of-type {\n",
       "        vertical-align: middle;\n",
       "    }\n",
       "\n",
       "    .dataframe tbody tr th {\n",
       "        vertical-align: top;\n",
       "    }\n",
       "\n",
       "    .dataframe thead th {\n",
       "        text-align: right;\n",
       "    }\n",
       "</style>\n",
       "<table border=\"1\" class=\"dataframe\">\n",
       "  <thead>\n",
       "    <tr style=\"text-align: right;\">\n",
       "      <th></th>\n",
       "      <th>Unnamed: 0</th>\n",
       "      <th>LLAVE</th>\n",
       "      <th>TIPO_NIVEL</th>\n",
       "      <th>EDAD</th>\n",
       "      <th>ESTADO_CIVIL</th>\n",
       "      <th>TELEFONO_MOVIL</th>\n",
       "      <th>TELEFONO</th>\n",
       "      <th>DEPTO_PROCEDENCIA</th>\n",
       "      <th>DIRECCION_PROCEDENCIA</th>\n",
       "      <th>TEL_PROCEDENCIA</th>\n",
       "      <th>EXTRANJERO</th>\n",
       "    </tr>\n",
       "  </thead>\n",
       "  <tbody>\n",
       "    <tr>\n",
       "      <th>0</th>\n",
       "      <td>0</td>\n",
       "      <td>314246</td>\n",
       "      <td>POSGRADO</td>\n",
       "      <td>34.0</td>\n",
       "      <td>Soltero</td>\n",
       "      <td>3043891301</td>\n",
       "      <td>3037591</td>\n",
       "      <td>BOGOTA D.C.</td>\n",
       "      <td>Calle 80#62- 54 Apto 408</td>\n",
       "      <td>2404337</td>\n",
       "      <td>NO</td>\n",
       "    </tr>\n",
       "    <tr>\n",
       "      <th>1</th>\n",
       "      <td>1</td>\n",
       "      <td>293884</td>\n",
       "      <td>POSGRADO</td>\n",
       "      <td>39.0</td>\n",
       "      <td>Soltero</td>\n",
       "      <td>NaN</td>\n",
       "      <td>NaN</td>\n",
       "      <td>BOGOTA D.C.</td>\n",
       "      <td>CALLE 125BIS# 40A82 APTO 811</td>\n",
       "      <td>6240608</td>\n",
       "      <td>NO</td>\n",
       "    </tr>\n",
       "    <tr>\n",
       "      <th>2</th>\n",
       "      <td>3</td>\n",
       "      <td>344641</td>\n",
       "      <td>POSGRADO</td>\n",
       "      <td>32.0</td>\n",
       "      <td>Soltero</td>\n",
       "      <td>NaN</td>\n",
       "      <td>NaN</td>\n",
       "      <td>BOGOTA D.C.</td>\n",
       "      <td>Calle 52 Sur N° 24A - 35   Blo</td>\n",
       "      <td>7697210</td>\n",
       "      <td>NO</td>\n",
       "    </tr>\n",
       "    <tr>\n",
       "      <th>3</th>\n",
       "      <td>4</td>\n",
       "      <td>339861</td>\n",
       "      <td>PREGRADO</td>\n",
       "      <td>33.0</td>\n",
       "      <td>Soltero</td>\n",
       "      <td>3203761470</td>\n",
       "      <td>NaN</td>\n",
       "      <td>BOYACA</td>\n",
       "      <td>Cra 10 N 12-53</td>\n",
       "      <td>3102090338</td>\n",
       "      <td>NO</td>\n",
       "    </tr>\n",
       "    <tr>\n",
       "      <th>4</th>\n",
       "      <td>5</td>\n",
       "      <td>332394</td>\n",
       "      <td>POSGRADO</td>\n",
       "      <td>NaN</td>\n",
       "      <td>Soltero</td>\n",
       "      <td>NaN</td>\n",
       "      <td>NaN</td>\n",
       "      <td>BOGOTA D.C.</td>\n",
       "      <td>trans 86 C # 62 B - 21 SUR</td>\n",
       "      <td>5738128</td>\n",
       "      <td>NO</td>\n",
       "    </tr>\n",
       "  </tbody>\n",
       "</table>\n",
       "</div>"
      ],
      "text/plain": [
       "   Unnamed: 0   LLAVE TIPO_NIVEL  EDAD ESTADO_CIVIL TELEFONO_MOVIL TELEFONO  \\\n",
       "0           0  314246   POSGRADO  34.0      Soltero     3043891301  3037591   \n",
       "1           1  293884   POSGRADO  39.0      Soltero            NaN      NaN   \n",
       "2           3  344641   POSGRADO  32.0      Soltero            NaN      NaN   \n",
       "3           4  339861   PREGRADO  33.0      Soltero     3203761470      NaN   \n",
       "4           5  332394   POSGRADO   NaN      Soltero            NaN      NaN   \n",
       "\n",
       "  DEPTO_PROCEDENCIA           DIRECCION_PROCEDENCIA TEL_PROCEDENCIA EXTRANJERO  \n",
       "0       BOGOTA D.C.        Calle 80#62- 54 Apto 408         2404337         NO  \n",
       "1       BOGOTA D.C.    CALLE 125BIS# 40A82 APTO 811         6240608         NO  \n",
       "2       BOGOTA D.C.  Calle 52 Sur N° 24A - 35   Blo         7697210         NO  \n",
       "3            BOYACA                  Cra 10 N 12-53      3102090338         NO  \n",
       "4       BOGOTA D.C.      trans 86 C # 62 B - 21 SUR         5738128         NO  "
      ]
     },
     "execution_count": 3,
     "metadata": {},
     "output_type": "execute_result"
    }
   ],
   "source": [
    "df_procedencia.head()"
   ]
  },
  {
   "cell_type": "markdown",
   "metadata": {},
   "source": [
    "# Evaluación dimensiones"
   ]
  },
  {
   "cell_type": "markdown",
   "metadata": {},
   "source": [
    "### Nivel"
   ]
  },
  {
   "cell_type": "code",
   "execution_count": 46,
   "metadata": {},
   "outputs": [],
   "source": [
    "# Se extrae la distribución teorica y las categorias teoricas\n",
    "df_tipo_nivel = pd.DataFrame(df_metadatos['TIPO_NIVEL'].value_counts())\n",
    "df_tipo_nivel.reset_index(inplace=True)\n",
    "suma = sum(df_tipo_nivel.sort_values('index')['TIPO_NIVEL'].tolist())\n",
    "numerador = np.array(df_tipo_nivel.sort_values('index')['TIPO_NIVEL'].tolist())\n",
    "distribucion_teorica_nivel = list(map(lambda x: round(x, 4), list((numerador / suma)*10)))\n",
    "categorias_teoricas_nivel = list(map(lambda x: x.upper().strip(), (sorted(pd.DataFrame(df_procedencia['TIPO_NIVEL'].value_counts()).index))))"
   ]
  },
  {
   "cell_type": "code",
   "execution_count": 47,
   "metadata": {},
   "outputs": [
    {
     "data": {
      "image/png": "[encoded data removed]",
      "text/plain": [
       "<Figure size 432x288 with 1 Axes>"
      ]
     },
     "metadata": {
      "needs_background": "light"
     },
     "output_type": "display_data"
    }
   ],
   "source": [
    "import numpy as np\n",
    "import matplotlib.pyplot as plt\n",
    "\n",
    "# Make a random dataset:\n",
    "height = np.array(list(df_procedencia['TIPO_NIVEL'].value_counts()))/10000\n",
    "bars = list(df_metadatos['TIPO_NIVEL'].value_counts().index)\n",
    "y_pos = np.arange(len(bars))\n",
    "\n",
    "# Create bars\n",
    "plt.bar(y_pos, height)\n",
    "\n",
    "# Create names on the x-axis\n",
    "plt.xticks(y_pos, bars)\n",
    "\n",
    "plt.xticks(rotation=90)\n",
    "plt.title('Elicitación variable nivel (procedencia)')\n",
    "\n",
    "# Show graphic\n",
    "plt.show()"
   ]
  },
  {
   "cell_type": "code",
   "execution_count": 48,
   "metadata": {},
   "outputs": [],
   "source": [
    "nivel = Categorica(df_procedencia['TIPO_NIVEL'])"
   ]
  },
  {
   "cell_type": "code",
   "execution_count": 49,
   "metadata": {},
   "outputs": [
    {
     "name": "stdout",
     "output_type": "stream",
     "text": [
      "El porcentaje de exactitud para la variable es de 81.42%\n",
      "El porcentaje de completitud para la variable es de 100.0%\n",
      "El porcentaje de consistencia para la variable es de 100.0%\n"
     ]
    }
   ],
   "source": [
    "print(nivel.evaluacion_exactitud(distribucion_teorica=distribucion_teorica_nivel, categorias_teoricas=categorias_teoricas_nivel))\n",
    "print(nivel.evaluacion_completitud())\n",
    "print(nivel.evaluacion_consistencia())"
   ]
  },
  {
   "cell_type": "markdown",
   "metadata": {},
   "source": [
    "### Edad"
   ]
  },
  {
   "cell_type": "code",
   "execution_count": 50,
   "metadata": {},
   "outputs": [],
   "source": [
    "maximo_teorico = max(df_metadatos['EDAD'])\n",
    "minimo_teorico = (min(df_metadatos['EDAD']))\n",
    "distribucion_teorica_edad = (list(np.histogram(df_metadatos['EDAD'], bins=\"sturges\")[0]))"
   ]
  },
  {
   "cell_type": "code",
   "execution_count": 51,
   "metadata": {},
   "outputs": [],
   "source": [
    "valores_edad = df_procedencia['EDAD']"
   ]
  },
  {
   "cell_type": "code",
   "execution_count": 52,
   "metadata": {},
   "outputs": [
    {
     "data": {
      "text/plain": [
       "Text(0.5, 1.0, 'Elicitación variable edad (procedencia)')"
      ]
     },
     "execution_count": 52,
     "metadata": {},
     "output_type": "execute_result"
    },
    {
     "data": {
      "image/png": "[encoded data removed]",
      "text/plain": [
       "<Figure size 432x288 with 1 Axes>"
      ]
     },
     "metadata": {
      "needs_background": "light"
     },
     "output_type": "display_data"
    }
   ],
   "source": [
    "plt.hist(df_procedencia['EDAD'], weights=df_procedencia['EDAD']/70000)\n",
    "plt.title('Elicitación variable edad (procedencia)')"
   ]
  },
  {
   "cell_type": "code",
   "execution_count": 53,
   "metadata": {},
   "outputs": [],
   "source": [
    "edad = Numero(valores=valores_edad)"
   ]
  },
  {
   "cell_type": "code",
   "execution_count": 54,
   "metadata": {},
   "outputs": [
    {
     "name": "stdout",
     "output_type": "stream",
     "text": [
      "El porcentaje de actualidad para la variable es de 100.0%\n",
      "El porcentaje de completitud para la variable es de 84.99%\n",
      "El porcentaje de accesibilidad para la variable es de 90.0%\n"
     ]
    }
   ],
   "source": [
    "print(edad.evaluacion_exactitud(minimo_teorico=minimo_teorico, maximo_teorico=maximo_teorico, distribucion_teorica=distribucion_teorica_edad))\n",
    "print(edad.evaluacion_completitud())\n",
    "print(edad.evaluacion_accesibilidad(acceso=1,plantilla=1, presentacion=1,restriccion=1))"
   ]
  },
  {
   "cell_type": "markdown",
   "metadata": {},
   "source": [
    "### Estado civil"
   ]
  },
  {
   "cell_type": "code",
   "execution_count": 30,
   "metadata": {},
   "outputs": [],
   "source": [
    "# Se extrae la distribución teorica y las categorias teoricas\n",
    "df_estado_civil = pd.DataFrame(df_metadatos['ESTADO_CIVIL'].value_counts())\n",
    "df_estado_civil.reset_index(inplace=True)\n",
    "suma = sum(df_estado_civil.sort_values('index')['ESTADO_CIVIL'].tolist())\n",
    "numerador = np.array(df_estado_civil.sort_values('index')['ESTADO_CIVIL'].tolist())\n",
    "distribucion_teorica_estado = list(map(lambda x: round(x, 4), list((numerador / suma)*10)))\n",
    "categorias_teoricas_estado = list(map(lambda x: x.upper().strip(), (sorted(pd.DataFrame(df_procedencia['ESTADO_CIVIL'].value_counts()).index))))"
   ]
  },
  {
   "cell_type": "code",
   "execution_count": 56,
   "metadata": {},
   "outputs": [
    {
     "data": {
      "image/png": "[encoded data removed]",
      "text/plain": [
       "<Figure size 432x288 with 1 Axes>"
      ]
     },
     "metadata": {
      "needs_background": "light"
     },
     "output_type": "display_data"
    }
   ],
   "source": [
    "import numpy as np\n",
    "import matplotlib.pyplot as plt\n",
    "\n",
    "# Make a random dataset:\n",
    "height = np.array([0.1267, 0.0009, 0.0301, 0.0018, 0.0159, 9.7051, 0.1148, 0.0048])\n",
    "bars = (list(map(lambda x: x.upper().strip(), (sorted(pd.DataFrame(df_procedencia['ESTADO_CIVIL'].value_counts()).index)))))\n",
    "y_pos = np.arange(len(bars))\n",
    "\n",
    "# Create bars\n",
    "plt.bar(y_pos, height)\n",
    "\n",
    "# Create names on the x-axis\n",
    "plt.xticks(y_pos, bars)\n",
    "\n",
    "plt.xticks(rotation=90)\n",
    "plt.title('Elicitación variable estado civil (procedencia)')\n",
    "\n",
    "# Show graphic\n",
    "plt.show()"
   ]
  },
  {
   "cell_type": "code",
   "execution_count": 57,
   "metadata": {},
   "outputs": [],
   "source": [
    "estado_civil = Categorica(df_procedencia['ESTADO_CIVIL'])"
   ]
  },
  {
   "cell_type": "code",
   "execution_count": 58,
   "metadata": {},
   "outputs": [
    {
     "name": "stdout",
     "output_type": "stream",
     "text": [
      "El porcentaje de exactitud para la variable es de 97.77%\n",
      "El porcentaje de completitud para la variable es de 99.87%\n",
      "El porcentaje de consistencia para la variable es de 74.34%\n"
     ]
    }
   ],
   "source": [
    "print(estado_civil.evaluacion_exactitud(distribucion_teorica=distribucion_teorica_estado, categorias_teoricas=categorias_teoricas_estado))\n",
    "print(estado_civil.evaluacion_completitud())\n",
    "print(estado_civil.evaluacion_consistencia())"
   ]
  },
  {
   "cell_type": "markdown",
   "metadata": {},
   "source": [
    "### Celular"
   ]
  },
  {
   "cell_type": "code",
   "execution_count": 4,
   "metadata": {},
   "outputs": [],
   "source": [
    "celular = Caracter(df_procedencia['TELEFONO_MOVIL'])"
   ]
  },
  {
   "cell_type": "code",
   "execution_count": 5,
   "metadata": {},
   "outputs": [],
   "source": [
    "categorias_teoricas_celular = ('0', '1', '2', '3', '4', '5', '6', '7', '8', '9', '(', ')', '+')\n",
    "diccionario_dominios_celular = {'0':'numero', '1':'numero', '2':'numero',\\\n",
    "     '3':'numero', '4':'numero', '5':'numero', '6':'numero', '7':'numero', '8':'numero', '9':'numero', 'none':'toquen_malo'\n",
    "     , '(':'agrupador', '+':'indicativo', ')':'agrupador'}\n",
    "estandar = 'numero'"
   ]
  },
  {
   "cell_type": "code",
   "execution_count": 6,
   "metadata": {},
   "outputs": [],
   "source": [
    "diccionario_dominios_celular = {'0':'numero', '1':'numero', '2':'numero',\\\n",
    "     '3':'numero', '4':'numero', '5':'numero', '6':'numero', '7':'numero', '8':'numero', '9':'numero', 'none':'toquen_malo'\n",
    "     , '(':'agrupador', '+':'indicativo', ')':'agrupador'}"
   ]
  },
  {
   "cell_type": "code",
   "execution_count": 11,
   "metadata": {},
   "outputs": [
    {
     "name": "stdout",
     "output_type": "stream",
     "text": [
      "El porcentaje de exactitud para la variable es de 99.7%\n",
      "El porcentaje de completitud para la variable es de 35.07%\n",
      "El porcentaje de consistencia para la variable es de 99.49%\n"
     ]
    }
   ],
   "source": [
    "print(celular.evaluacion_exactitud(numeros=True, letras=False, longitud=10))\n",
    "print(celular.evaluacion_completitud())\n",
    "print(celular.evaluacion_consistencia(estandar=estandar, diccionario_dominios=diccionario_dominios_celular,\\\n",
    "     tildes = False, numeros = True,\\\n",
    "     mayusculas = True, minusculas = False,\\\n",
    "              categorias_teoricas=categorias_teoricas_celular, letras=False))"
   ]
  },
  {
   "cell_type": "markdown",
   "metadata": {},
   "source": [
    "### Telefono"
   ]
  },
  {
   "cell_type": "code",
   "execution_count": 12,
   "metadata": {},
   "outputs": [],
   "source": [
    "telefono = Caracter(df_procedencia['TELEFONO'])"
   ]
  },
  {
   "cell_type": "code",
   "execution_count": 13,
   "metadata": {},
   "outputs": [
    {
     "name": "stdout",
     "output_type": "stream",
     "text": [
      "El porcentaje de exactitud para la variable es de 99.27%\n",
      "El porcentaje de completitud para la variable es de 13.62%\n",
      "El porcentaje de consistencia para la variable es de 98.62%\n"
     ]
    }
   ],
   "source": [
    "print(telefono.evaluacion_exactitud(numeros=True, letras=False, longitud=6))\n",
    "print(telefono.evaluacion_completitud())\n",
    "print(telefono.evaluacion_consistencia(estandar=estandar, diccionario_dominios=diccionario_dominios_celular,\\\n",
    "     tildes = False, numeros = True,\\\n",
    "     mayusculas = True, minusculas = False,\\\n",
    "              categorias_teoricas=categorias_teoricas_celular, letras=False))"
   ]
  },
  {
   "cell_type": "markdown",
   "metadata": {},
   "source": [
    "### Dirección de procedencia"
   ]
  },
  {
   "cell_type": "code",
   "execution_count": 66,
   "metadata": {},
   "outputs": [],
   "source": [
    "\n",
    "direccion = Caracter(df_procedencia['DIRECCION_PROCEDENCIA'])"
   ]
  },
  {
   "cell_type": "code",
   "execution_count": 18,
   "metadata": {},
   "outputs": [],
   "source": [
    "categorias_teoricas_direccion = ('0', '1', '2', '3', '4', '5', '6', '7', '8', '9', 'none', 'CL.', 'CRA.',\\\n",
    "      'DIG.', 'TRAV.', '#', 'A', 'B', 'C', 'D', 'E', '-')\n",
    "diccionario_dominios_direccion = {'0':'numero', '1':'numero', '2':'numero',\\\n",
    "     '3':'numero', '4':'numero', '5':'numero', '6':'numero', '7':'numero', '8':'numero', '9':'numero', 'none':'toquen_malo'\n",
    "     , 'CL.':'nomenclatura', 'CRA.':'nomenclatura', 'DIG.':'nomenclatura', 'TRAV.':'nomenclatura', '#':'numeral',\n",
    "     'A':'letra', 'B':'letra', 'C':'letra', 'D':'letra', 'E':'letra', '-':'separador'}\n",
    "estandar_direccion = \"nomenclatura numero letra numeral numero separador numero\""
   ]
  },
  {
   "cell_type": "code",
   "execution_count": 19,
   "metadata": {},
   "outputs": [],
   "source": [
    "diccionario_dominios_direccion = {'0':'numero', '1':'numero', '2':'numero',\\\n",
    "     '3':'numero', '4':'numero', '5':'numero', '6':'numero', '7':'numero', '8':'numero', '9':'numero', 'none':'toquen_malo'\n",
    "     , 'CL.':'nomenclatura', 'CRA.':'nomenclatura', 'DIG.':'nomenclatura', 'TRAV.':'nomenclatura', '#':'numeral',\n",
    "     'A':'letra', 'B':'letra', 'C':'letra', 'D':'letra', 'E':'letra', '-':'separador'}"
   ]
  },
  {
   "cell_type": "code",
   "execution_count": 69,
   "metadata": {},
   "outputs": [
    {
     "name": "stdout",
     "output_type": "stream",
     "text": [
      "El porcentaje de exactitud para la variable es de 95%\n",
      "El porcentaje de completitud para la variable es de 98.8%\n",
      "El porcentaje de consistencia para la variable es de 30.81%\n"
     ]
    }
   ],
   "source": [
    "print(direccion.evaluacion_exactitud(numeros=True, letras=True))\n",
    "print(direccion.evaluacion_completitud())\n",
    "print(direccion.evaluacion_consistencia(estandar=estandar, diccionario_dominios=diccionario_dominios_direccion,\\\n",
    "     tildes = False, numeros = True,\\\n",
    "     mayusculas = True, minusculas = False,\\\n",
    "              categorias_teoricas=categorias_teoricas_direccion, letras=True))"
   ]
  },
  {
   "cell_type": "markdown",
   "metadata": {},
   "source": [
    "### Nacionalidad"
   ]
  },
  {
   "cell_type": "code",
   "execution_count": 70,
   "metadata": {},
   "outputs": [],
   "source": [
    "# Se extrae la distribución teorica y las categorias teoricas\n",
    "df_extrajero = pd.DataFrame(df_metadatos['EXTRANJERO'].value_counts())\n",
    "df_extrajero.reset_index(inplace=True)\n",
    "suma = sum(df_extrajero.sort_values('index')['EXTRANJERO'].tolist())\n",
    "numerador = np.array(df_extrajero.sort_values('index')['EXTRANJERO'].tolist())\n",
    "distribucion_teorica_nacio = list(map(lambda x: round(x, 4), list((numerador / suma)*10)))\n",
    "categorias_teoricas_nacio = list(map(lambda x: x.upper().strip(), (sorted(pd.DataFrame(df_procedencia['EXTRANJERO'].value_counts()).index))))"
   ]
  },
  {
   "cell_type": "code",
   "execution_count": 71,
   "metadata": {},
   "outputs": [
    {
     "data": {
      "image/png": "[encoded data removed]",
      "text/plain": [
       "<Figure size 432x288 with 1 Axes>"
      ]
     },
     "metadata": {
      "needs_background": "light"
     },
     "output_type": "display_data"
    }
   ],
   "source": [
    "import numpy as np\n",
    "import matplotlib.pyplot as plt\n",
    "\n",
    "# Make a random dataset:\n",
    "height = list(map(lambda x: round(x, 4), list((numerador / suma)*10)))\n",
    "bars = ['NO', 'SI']\n",
    "y_pos = np.arange(len(bars))\n",
    "\n",
    "# Create bars\n",
    "plt.bar(y_pos, height)\n",
    "\n",
    "# Create names on the x-axis\n",
    "plt.xticks(y_pos, bars)\n",
    "\n",
    "plt.xticks(rotation=90)\n",
    "plt.title('Elicitación variable extrajero (procedencia)')\n",
    "\n",
    "# Show graphic\n",
    "plt.show()"
   ]
  },
  {
   "cell_type": "code",
   "execution_count": 72,
   "metadata": {},
   "outputs": [],
   "source": [
    "extranjero = Categorica(df_procedencia['EXTRANJERO'])"
   ]
  },
  {
   "cell_type": "code",
   "execution_count": 73,
   "metadata": {},
   "outputs": [
    {
     "name": "stdout",
     "output_type": "stream",
     "text": [
      "El porcentaje de exactitud para la variable es de 84.81%\n",
      "El porcentaje de completitud para la variable es de 100.0%\n",
      "El porcentaje de consistencia para la variable es de 100.0%\n"
     ]
    }
   ],
   "source": [
    "print(extranjero.evaluacion_exactitud(distribucion_teorica=distribucion_teorica_nacio, categorias_teoricas=categorias_teoricas_nacio))\n",
    "print(extranjero.evaluacion_completitud())\n",
    "print(extranjero.evaluacion_consistencia())"
   ]
  },
  {
   "cell_type": "markdown",
   "metadata": {},
   "source": [
    "### Departamento procedencia"
   ]
  },
  {
   "cell_type": "code",
   "execution_count": 74,
   "metadata": {},
   "outputs": [],
   "source": [
    "df_departamento_procedencia = pd.DataFrame(df_metadatos['DEPTO_PROCEDENCIA'].value_counts())\n",
    "df_departamento_procedencia.reset_index(inplace=True)\n",
    "suma = sum(df_departamento_procedencia.sort_values('index')['DEPTO_PROCEDENCIA'].tolist())\n",
    "numerador = np.array(df_departamento_procedencia.sort_values('index')['DEPTO_PROCEDENCIA'].tolist())\n",
    "distribucion_teorica = list(map(lambda x: round(x, 4), list((numerador / suma)*10)))\n",
    "categorias_teoricas = df_departamento_procedencia.sort_values('index')['index'].tolist()"
   ]
  },
  {
   "cell_type": "code",
   "execution_count": 75,
   "metadata": {},
   "outputs": [
    {
     "data": {
      "image/png": "[encoded data removed]",
      "text/plain": [
       "<Figure size 432x288 with 1 Axes>"
      ]
     },
     "metadata": {
      "needs_background": "light"
     },
     "output_type": "display_data"
    }
   ],
   "source": [
    "import numpy as np\n",
    "import matplotlib.pyplot as plt\n",
    "\n",
    "# Make a random dataset:\n",
    "height = list(map(lambda x: round(x, 4), list((numerador / suma)*20)))\n",
    "bars = categorias_teoricas\n",
    "y_pos = np.arange(len(bars))\n",
    "\n",
    "# Create bars\n",
    "plt.bar(y_pos, height)\n",
    "\n",
    "# Create names on the x-axis\n",
    "plt.xticks(y_pos, bars)\n",
    "\n",
    "plt.xticks(rotation=90)\n",
    "plt.title('Elicitación variable departamento (procedencia)')\n",
    "\n",
    "# Show graphic\n",
    "plt.show()"
   ]
  },
  {
   "cell_type": "code",
   "execution_count": 76,
   "metadata": {},
   "outputs": [],
   "source": [
    "\n",
    "departamento = Categorica(df_procedencia['DEPTO_PROCEDENCIA'])"
   ]
  },
  {
   "cell_type": "code",
   "execution_count": 77,
   "metadata": {},
   "outputs": [
    {
     "name": "stdout",
     "output_type": "stream",
     "text": [
      "El porcentaje de exactitud para la variable es de 100.0%\n",
      "El porcentaje de completitud para la variable es de 99.61%\n",
      "El porcentaje de consistencia para la variable es de 100.0%\n"
     ]
    }
   ],
   "source": [
    "print(departamento.evaluacion_exactitud(distribucion_teorica=distribucion_teorica, categorias_teoricas=categorias_teoricas))\n",
    "print(departamento.evaluacion_completitud())\n",
    "print(departamento.evaluacion_consistencia(tildes=False,  minusculas=False, espacio = True))"
   ]
  },
  {
   "cell_type": "markdown",
   "metadata": {},
   "source": [
    "### Telefono procedencia"
   ]
  },
  {
   "cell_type": "code",
   "execution_count": 14,
   "metadata": {},
   "outputs": [],
   "source": [
    "celular = Caracter(df_procedencia['TEL_PROCEDENCIA'])"
   ]
  },
  {
   "cell_type": "code",
   "execution_count": 20,
   "metadata": {},
   "outputs": [],
   "source": [
    "categorias_teoricas_celular = ('0', '1', '2', '3', '4', '5', '6', '7', '8', '9', '(', ')', '+')\n",
    "diccionario_dominios_celular = {'0':'numero', '1':'numero', '2':'numero',\\\n",
    "     '3':'numero', '4':'numero', '5':'numero', '6':'numero', '7':'numero', '8':'numero', '9':'numero', 'none':'toquen_malo'\n",
    "     , '(':'agrupador', '+':'indicativo', ')':'agrupador'}\n",
    "estandar = 'numero'"
   ]
  },
  {
   "cell_type": "code",
   "execution_count": 21,
   "metadata": {},
   "outputs": [],
   "source": [
    "diccionario_dominios_celular = {'0':'numero', '1':'numero', '2':'numero',\\\n",
    "     '3':'numero', '4':'numero', '5':'numero', '6':'numero', '7':'numero', '8':'numero', '9':'numero', 'none':'toquen_malo'\n",
    "     , '(':'agrupador', '+':'indicativo', ')':'agrupador'}"
   ]
  },
  {
   "cell_type": "code",
   "execution_count": 17,
   "metadata": {},
   "outputs": [
    {
     "name": "stdout",
     "output_type": "stream",
     "text": [
      "El porcentaje de exactitud para la variable es de 99.33%\n",
      "El porcentaje de completitud para la variable es de 98.7%\n",
      "El porcentaje de consistencia para la variable es de 98.83%\n"
     ]
    }
   ],
   "source": [
    "print(celular.evaluacion_exactitud(numeros=True, letras=False, longitud=6))\n",
    "print(celular.evaluacion_completitud())\n",
    "print(celular.evaluacion_consistencia(estandar=estandar, diccionario_dominios=diccionario_dominios_celular,\\\n",
    "     tildes = False, numeros = True,\\\n",
    "     mayusculas = True, minusculas = False,\\\n",
    "              categorias_teoricas=categorias_teoricas_celular, letras=False))"
   ]
  },
  {
   "cell_type": "markdown",
   "metadata": {},
   "source": [
    "# Estandarización de datos y eliminación de errores"
   ]
  },
  {
   "cell_type": "markdown",
   "metadata": {},
   "source": [
    "### Dirección"
   ]
  },
  {
   "cell_type": "code",
   "execution_count": 22,
   "metadata": {},
   "outputs": [],
   "source": [
    "from tipos.estandarizar_direccion import arreglar_direccion\n",
    "categorias_teoricas = ('CL.', 'CRA.', 'DIG.', 'TRAV.')\n",
    "\n",
    "direcciones_buenas = []\n",
    "for i in df_procedencia['DIRECCION_PROCEDENCIA']:\n",
    "    direcciones_buenas.append(arreglar_direccion(str(i), categorias_teoricas))"
   ]
  },
  {
   "cell_type": "code",
   "execution_count": 23,
   "metadata": {},
   "outputs": [],
   "source": [
    "df_procedencia['DIRECCION_PROCEDENCIA'] = direcciones_buenas"
   ]
  },
  {
   "cell_type": "markdown",
   "metadata": {},
   "source": [
    "### Celular"
   ]
  },
  {
   "cell_type": "code",
   "execution_count": 24,
   "metadata": {},
   "outputs": [],
   "source": [
    "from tipos.estandarizar_numero_telefono import estandar_numero"
   ]
  },
  {
   "cell_type": "code",
   "execution_count": 25,
   "metadata": {},
   "outputs": [],
   "source": [
    "celular_bueno = []\n",
    "for i in df_procedencia['TELEFONO_MOVIL']:\n",
    "    celular_bueno.append(estandar_numero(str(i)))"
   ]
  },
  {
   "cell_type": "code",
   "execution_count": 26,
   "metadata": {},
   "outputs": [],
   "source": [
    "df_procedencia['TELEFONO_MOVIL'] = celular_bueno"
   ]
  },
  {
   "cell_type": "markdown",
   "metadata": {},
   "source": [
    "### Telefono"
   ]
  },
  {
   "cell_type": "code",
   "execution_count": 27,
   "metadata": {},
   "outputs": [],
   "source": [
    "telefono_bueno = []\n",
    "for i in df_procedencia['TELEFONO']:\n",
    "    telefono_bueno.append(estandar_numero(str(i)))"
   ]
  },
  {
   "cell_type": "code",
   "execution_count": 28,
   "metadata": {},
   "outputs": [],
   "source": [
    "df_procedencia['TELEFONO'] = telefono_bueno"
   ]
  },
  {
   "cell_type": "markdown",
   "metadata": {},
   "source": [
    "### Telefono procedencia"
   ]
  },
  {
   "cell_type": "code",
   "execution_count": 29,
   "metadata": {},
   "outputs": [],
   "source": [
    "telefono_p_bueno = []\n",
    "for i in df_procedencia['TEL_PROCEDENCIA']:\n",
    "    telefono_p_bueno.append(estandar_numero(str(i)))\n",
    "df_procedencia['TEL_PROCEDENCIA'] = telefono_p_bueno"
   ]
  },
  {
   "cell_type": "code",
   "execution_count": 30,
   "metadata": {},
   "outputs": [],
   "source": [
    "df_procedencia['TEL_PROCEDENCIA'] = telefono_p_bueno"
   ]
  },
  {
   "cell_type": "markdown",
   "metadata": {},
   "source": [
    "### Estado civil"
   ]
  },
  {
   "cell_type": "code",
   "execution_count": 31,
   "metadata": {},
   "outputs": [],
   "source": [
    "from tipos.estandarizar_cadena import arreglar_cadena"
   ]
  },
  {
   "cell_type": "code",
   "execution_count": 32,
   "metadata": {},
   "outputs": [],
   "source": [
    "estado_civil_bueno = []\n",
    "for i in df_procedencia['ESTADO_CIVIL']:\n",
    "    estado_civil_bueno.append(arreglar_cadena(str(i), mayuscular=True, minuscular=False, espacios=True))"
   ]
  },
  {
   "cell_type": "code",
   "execution_count": 33,
   "metadata": {},
   "outputs": [],
   "source": [
    "df_procedencia['ESTADO_CIVIL'] = estado_civil_bueno"
   ]
  },
  {
   "cell_type": "markdown",
   "metadata": {},
   "source": [
    "# Imputación de datos"
   ]
  },
  {
   "cell_type": "code",
   "execution_count": 34,
   "metadata": {},
   "outputs": [],
   "source": [
    "edad_imputada = pd.read_csv('df_procedencia_imputada.csv', encoding=\"Latin1\")['EDAD']"
   ]
  },
  {
   "cell_type": "code",
   "execution_count": 35,
   "metadata": {},
   "outputs": [],
   "source": [
    "df_procedencia['EDAD'] =   edad_imputada"
   ]
  },
  {
   "cell_type": "markdown",
   "metadata": {},
   "source": [
    "# Evaluación de metricas despues de limpiar datos"
   ]
  },
  {
   "cell_type": "markdown",
   "metadata": {},
   "source": [
    "### Dirección"
   ]
  },
  {
   "cell_type": "code",
   "execution_count": 36,
   "metadata": {},
   "outputs": [],
   "source": [
    "direccion = Caracter(df_procedencia['DIRECCION_PROCEDENCIA'])"
   ]
  },
  {
   "cell_type": "code",
   "execution_count": 38,
   "metadata": {},
   "outputs": [
    {
     "name": "stdout",
     "output_type": "stream",
     "text": [
      "El porcentaje de consistencia para la variable es de 95.96%\n",
      "El porcentaje de exactitud para la variable es de 100.0%\n"
     ]
    }
   ],
   "source": [
    "print(direccion.evaluacion_consistencia(estandar=estandar_direccion, diccionario_dominios=diccionario_dominios_direccion,\\\n",
    "     tildes = False, numeros = True,\\\n",
    "     mayusculas = True, minusculas = False,\\\n",
    "              categorias_teoricas=categorias_teoricas_direccion, letras=True))\n",
    "print(direccion.evaluacion_exactitud(numeros=True, letras=True, longitud=10))\n"
   ]
  },
  {
   "cell_type": "markdown",
   "metadata": {},
   "source": [
    "### Celular"
   ]
  },
  {
   "cell_type": "code",
   "execution_count": 50,
   "metadata": {},
   "outputs": [],
   "source": [
    "celular = Caracter(df_procedencia['TELEFONO_MOVIL'])"
   ]
  },
  {
   "cell_type": "code",
   "execution_count": 39,
   "metadata": {},
   "outputs": [],
   "source": [
    "categorias_teoricas_celular = ('0', '1', '2', '3', '4', '5', '6', '7', '8', '9', '(', ')', '+')\n",
    "diccionario_dominios_celular = {'0':'numero', '1':'numero', '2':'numero',\\\n",
    "     '3':'numero', '4':'numero', '5':'numero', '6':'numero', '7':'numero', '8':'numero', '9':'numero', 'none':'toquen_malo'\n",
    "     , '(':'agrupador', '+':'indicativo', ')':'agrupador'}\n",
    "estandar = 'numero'"
   ]
  },
  {
   "cell_type": "code",
   "execution_count": 52,
   "metadata": {},
   "outputs": [
    {
     "name": "stdout",
     "output_type": "stream",
     "text": [
      "[15935]\n",
      "El porcentaje de exactitud para la variable es de 99.87%\n"
     ]
    }
   ],
   "source": [
    "print(celular.evaluacion_exactitud(numeros=True, letras=False, longitud=10))"
   ]
  },
  {
   "cell_type": "code",
   "execution_count": 53,
   "metadata": {},
   "outputs": [
    {
     "name": "stdout",
     "output_type": "stream",
     "text": [
      "[15935]\n",
      "El porcentaje de exactitud para la variable es de 99.87%\n",
      "El porcentaje de consistencia para la variable es de 100.0%\n"
     ]
    }
   ],
   "source": [
    "print(celular.evaluacion_exactitud(numeros=True, letras=False, longitud=10))\n",
    "print(celular.evaluacion_consistencia(estandar=estandar, diccionario_dominios=diccionario_dominios_celular,\\\n",
    "     tildes = False, numeros = True,\\\n",
    "     mayusculas = True, minusculas = False,\\\n",
    "              categorias_teoricas=categorias_teoricas_celular, letras=False))"
   ]
  },
  {
   "cell_type": "markdown",
   "metadata": {},
   "source": [
    "### Telefono"
   ]
  },
  {
   "cell_type": "code",
   "execution_count": 54,
   "metadata": {},
   "outputs": [],
   "source": [
    "telefono = Caracter(df_procedencia['TELEFONO'])"
   ]
  },
  {
   "cell_type": "code",
   "execution_count": 56,
   "metadata": {},
   "outputs": [
    {
     "name": "stdout",
     "output_type": "stream",
     "text": [
      "[6109]\n",
      "El porcentaje de exactitud para la variable es de 100.0%\n",
      "El porcentaje de consistencia para la variable es de 100.0%\n"
     ]
    }
   ],
   "source": [
    "print(telefono.evaluacion_exactitud(numeros=True, letras=False, longitud=6))\n",
    "print(telefono.evaluacion_consistencia(estandar=estandar, diccionario_dominios=diccionario_dominios_celular,\\\n",
    "     tildes = False, numeros = True,\\\n",
    "     mayusculas = True, minusculas = False,\\\n",
    "              categorias_teoricas=categorias_teoricas_celular, letras=False))"
   ]
  },
  {
   "cell_type": "markdown",
   "metadata": {},
   "source": [
    "### TEL_PROCEDENCIA"
   ]
  },
  {
   "cell_type": "code",
   "execution_count": 38,
   "metadata": {},
   "outputs": [],
   "source": [
    "telefono = Caracter(df_procedencia['TEL_PROCEDENCIA'])"
   ]
  },
  {
   "cell_type": "code",
   "execution_count": 57,
   "metadata": {},
   "outputs": [
    {
     "name": "stdout",
     "output_type": "stream",
     "text": [
      "[6109]\n",
      "El porcentaje de exactitud para la variable es de 100.0%\n",
      "El porcentaje de consistencia para la variable es de 100.0%\n"
     ]
    }
   ],
   "source": [
    "print(telefono.evaluacion_exactitud(numeros=True, letras=False, longitud=6))\n",
    "print(celular.evaluacion_consistencia(estandar=estandar, diccionario_dominios=diccionario_dominios_celular,\\\n",
    "     tildes = False, numeros = True,\\\n",
    "     mayusculas = False, minusculas = False,\\\n",
    "              categorias_teoricas=categorias_teoricas_celular, letras=False))"
   ]
  },
  {
   "cell_type": "markdown",
   "metadata": {},
   "source": [
    "### Estado civil"
   ]
  },
  {
   "cell_type": "code",
   "execution_count": 59,
   "metadata": {},
   "outputs": [],
   "source": [
    "estado_civil = Categorica(df_procedencia['ESTADO_CIVIL'])"
   ]
  },
  {
   "cell_type": "code",
   "execution_count": 63,
   "metadata": {},
   "outputs": [
    {
     "name": "stdout",
     "output_type": "stream",
     "text": [
      "El porcentaje de consistencia para la variable es de 100.0%\n"
     ]
    }
   ],
   "source": [
    "\n",
    "print(estado_civil.evaluacion_consistencia(caracteres_especiales=False, mayusculas=True, minusculas=False,\\\n",
    "         espacio = True, tildes = False))"
   ]
  },
  {
   "cell_type": "markdown",
   "metadata": {},
   "source": [
    "# Exportar base lista"
   ]
  },
  {
   "cell_type": "code",
   "execution_count": 61,
   "metadata": {},
   "outputs": [],
   "source": [
    "df_procedencia.to_excel('procedencia_final.xlsx')"
   ]
  },
  {
   "cell_type": "code",
   "execution_count": null,
   "metadata": {},
   "outputs": [],
   "source": []
  }
 ],
 "metadata": {
  "interpreter": {
   "hash": "77da567be7e5e11e4aa5c23d301394bc9119932d44c0f537e6ac8ee7c19944fc"
  },
  "kernelspec": {
   "display_name": "Python 3.9.7 64-bit",
   "language": "python",
   "name": "python3"
  },
  "language_info": {
   "codemirror_mode": {
    "name": "ipython",
    "version": 3
   },
   "file_extension": ".py",
   "mimetype": "text/x-python",
   "name": "python",
   "nbconvert_exporter": "python",
   "pygments_lexer": "ipython3",
   "version": "3.9.7"
  },
  "orig_nbformat": 4
 },
 "nbformat": 4,
 "nbformat_minor": 2
}
